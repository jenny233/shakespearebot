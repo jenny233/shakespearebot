{
 "cells": [
  {
   "cell_type": "code",
   "execution_count": 1,
   "metadata": {},
   "outputs": [
    {
     "name": "stderr",
     "output_type": "stream",
     "text": [
      "Using TensorFlow backend.\n"
     ]
    }
   ],
   "source": [
    "import numpy as np\n",
    "from keras.models import Sequential\n",
    "from keras.layers import Dense, Dropout, LSTM, Lambda\n",
    "from keras.utils import np_utils"
   ]
  },
  {
   "cell_type": "code",
   "execution_count": 2,
   "metadata": {},
   "outputs": [
    {
     "name": "stdout",
     "output_type": "stream",
     "text": [
      "84692\n"
     ]
    }
   ],
   "source": [
    "filename = \"wonderland.txt\"\n",
    "all_text = open(\"data/shakespeare.txt\").read().lower()\n",
    "all_text = ''.join([i for i in all_text if not i.isdigit()])\n",
    "SYMBOL_LIST = {'?', '.',  ')', ',', '!', ';', '(', ':'}\n",
    "sonnets = all_text.replace('                   ', '').split('\\n\\n\\n')\n",
    "sonnets = [sonnet[1:] for sonnet in sonnets]\n",
    "sonnets = [sonnet.replace('\\n', ' ') for sonnet in sonnets]\n",
    "sonnets = [sonnet.replace('  ', '') for sonnet in sonnets]\n",
    "sonnets = [''.join([i for i in sonnet if not i in SYMBOL_LIST]) for sonnet in sonnets]\n",
    "\n",
    "all_chars = sorted(list(set(''.join(sonnets))))\n",
    "max_char = len(all_chars) - 1\n",
    "char_map = {}\n",
    "int_to_char = {}\n",
    "int_to_arr = {}\n",
    "for i in range(len(all_chars)):\n",
    "    char_map[all_chars[i]] = i\n",
    "    int_to_char[i] = all_chars[i]\n",
    "    arr = [0] * len(all_chars) \n",
    "    arr[i] = 1\n",
    "    int_to_arr[i] = arr\n",
    "\n",
    "# print(sonnets)\n",
    "\n",
    "X_train = []\n",
    "Y_train = []\n",
    "\n",
    "for sonnet in sonnets:\n",
    "    start = 0\n",
    "    end = 40\n",
    "    while end < len(sonnet):\n",
    "        sequence = sonnet[start:end]\n",
    "        X_train.append([(char_map[c]) for c in sequence])\n",
    "        Y_train.append(char_map[sonnet[end]])\n",
    "        start += 1\n",
    "        end += 1\n",
    "        \n",
    "samples = len(X_train)\n",
    "timesteps = 40\n",
    "features = len(all_chars)\n",
    "X_train = [[int_to_arr[x] for x in seq] for seq in X_train]\n",
    "\n",
    "X_train = np.array(X_train) \n",
    "X_train = np.reshape(X_train, (samples, timesteps, features))\n",
    "Y_train = np.array([int_to_arr[y] for y in Y_train])\n",
    "\n",
    "\n",
    "print(samples)"
   ]
  },
  {
   "cell_type": "code",
   "execution_count": null,
   "metadata": {},
   "outputs": [],
   "source": [
    "# LSTM Layers:\n",
    "temp = 0.75\n",
    "\n",
    "model = Sequential()\n",
    "model.add(LSTM(200, input_shape=(timesteps, features), return_sequences=True))\n",
    "model.add(Dropout(0.1))\n",
    "model.add(LSTM(150))\n",
    "model.add(Dropout(0.1))\n",
    "model.add(Lambda(lambda x: x / temp))\n",
    "model.add(Dense(Y_train.shape[1], activation='softmax'))\n",
    "model.compile(loss='categorical_crossentropy', optimizer='adam')\n",
    "model.fit(X_train, Y_train, epochs=50, batch_size=128)\n",
    "\n",
    "\n",
    "    "
   ]
  },
  {
   "cell_type": "code",
   "execution_count": null,
   "metadata": {},
   "outputs": [],
   "source": [
    "def next_char(input_str, m):\n",
    "    X_in = np.array([[int_to_arr[char_map[c]] for c in input_str]])\n",
    "    [probs] = m.predict(X_in, verbose=0)\n",
    "    options = list(range(len(probs)))\n",
    "\n",
    "    \n",
    "    prediction = np.random.choice(options,p =  probs)\n",
    "    \n",
    "    return int_to_char[prediction]\n",
    "\n",
    "result = \"shall i compare thee to a summer's day t\"\n",
    "window = \"shall i compare thee to a summer's day t\"\n",
    "for i in range(1000):\n",
    "    prediction = next_char(window, model)\n",
    "    result = result + prediction\n",
    "    window = window[1:] + prediction\n",
    "\n",
    "print(result)"
   ]
  },
  {
   "cell_type": "code",
   "execution_count": null,
   "metadata": {},
   "outputs": [],
   "source": [
    "def get_poem(t, words_per_line, num_lines):\n",
    "    result = []\n",
    "\n",
    "    start = 0\n",
    "    end = -1\n",
    "    space_count = 0\n",
    "\n",
    "    for i in range(len(t)):\n",
    "        end += 1\n",
    "        if t[i] == ' ':\n",
    "            space_count += 1\n",
    "        if space_count > words_per_line - 1:\n",
    "            result.append(t[start:end])\n",
    "            start = end + 1\n",
    "            space_count = 0\n",
    "        if i == len(t) - 1:\n",
    "            result.append(t[start: end + 1])\n",
    "        if len(result) == num_lines:\n",
    "            break\n",
    "    return result"
   ]
  },
  {
   "cell_type": "code",
   "execution_count": null,
   "metadata": {},
   "outputs": [],
   "source": [
    "poem = get_poem(result, 8, 10)\n",
    "for i in range(len(poem)):\n",
    "    if i % 2 == 0:\n",
    "        print(poem[i] + ',')\n",
    "    else:\n",
    "        print(poem[i] + '.')"
   ]
  }
 ],
 "metadata": {
  "kernelspec": {
   "display_name": "Python 3",
   "language": "python",
   "name": "python3"
  },
  "language_info": {
   "codemirror_mode": {
    "name": "ipython",
    "version": 3
   },
   "file_extension": ".py",
   "mimetype": "text/x-python",
   "name": "python",
   "nbconvert_exporter": "python",
   "pygments_lexer": "ipython3",
   "version": "3.6.0"
  }
 },
 "nbformat": 4,
 "nbformat_minor": 2
}
